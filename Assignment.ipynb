{
 "cells": [
  {
   "cell_type": "markdown",
   "id": "b91668be-1092-478a-b607-091c489ddb76",
   "metadata": {},
   "source": [
    "# Assignment (Fake News Prediction)"
   ]
  },
  {
   "cell_type": "markdown",
   "id": "7108e07f-d271-4326-87ee-a169bf121b05",
   "metadata": {},
   "source": [
    "## Load The Dataset"
   ]
  },
  {
   "cell_type": "code",
   "execution_count": 1,
   "id": "62f4d46c-15f3-4026-ad3d-808c2f88a2f7",
   "metadata": {},
   "outputs": [],
   "source": [
    "# import libraries\n",
    "import numpy as np\n",
    "import matplotlib.pyplot as plt\n",
    "\n",
    "from sklearn.model_selection import train_test_split\n",
    "from sklearn.feature_extraction.text import TfidfVectorizer  \n",
    "from sklearn.svm import LinearSVC"
   ]
  },
  {
   "cell_type": "code",
   "execution_count": 2,
   "id": "1594fe0c-66c4-4a0b-96ca-7a0b0fac92ab",
   "metadata": {},
   "outputs": [],
   "source": [
    "# Load datasets for fake.\n",
    "import pandas as pd\n",
    "fakeData = pd.read_csv('Data/Fake.csv')\n",
    "trueData = pd.read_csv('Data/True.csv')"
   ]
  },
  {
   "cell_type": "code",
   "execution_count": 3,
   "id": "519987c2-734f-482c-9cc6-c25e1ad14dd9",
   "metadata": {},
   "outputs": [
    {
     "data": {
      "text/html": [
       "<div>\n",
       "<style scoped>\n",
       "    .dataframe tbody tr th:only-of-type {\n",
       "        vertical-align: middle;\n",
       "    }\n",
       "\n",
       "    .dataframe tbody tr th {\n",
       "        vertical-align: top;\n",
       "    }\n",
       "\n",
       "    .dataframe thead th {\n",
       "        text-align: right;\n",
       "    }\n",
       "</style>\n",
       "<table border=\"1\" class=\"dataframe\">\n",
       "  <thead>\n",
       "    <tr style=\"text-align: right;\">\n",
       "      <th></th>\n",
       "      <th>title</th>\n",
       "      <th>text</th>\n",
       "      <th>subject</th>\n",
       "      <th>date</th>\n",
       "    </tr>\n",
       "  </thead>\n",
       "  <tbody>\n",
       "    <tr>\n",
       "      <th>0</th>\n",
       "      <td>Donald Trump Sends Out Embarrassing New Year’...</td>\n",
       "      <td>Donald Trump just couldn t wish all Americans ...</td>\n",
       "      <td>News</td>\n",
       "      <td>December 31, 2017</td>\n",
       "    </tr>\n",
       "    <tr>\n",
       "      <th>1</th>\n",
       "      <td>Drunk Bragging Trump Staffer Started Russian ...</td>\n",
       "      <td>House Intelligence Committee Chairman Devin Nu...</td>\n",
       "      <td>News</td>\n",
       "      <td>December 31, 2017</td>\n",
       "    </tr>\n",
       "    <tr>\n",
       "      <th>2</th>\n",
       "      <td>Sheriff David Clarke Becomes An Internet Joke...</td>\n",
       "      <td>On Friday, it was revealed that former Milwauk...</td>\n",
       "      <td>News</td>\n",
       "      <td>December 30, 2017</td>\n",
       "    </tr>\n",
       "    <tr>\n",
       "      <th>3</th>\n",
       "      <td>Trump Is So Obsessed He Even Has Obama’s Name...</td>\n",
       "      <td>On Christmas day, Donald Trump announced that ...</td>\n",
       "      <td>News</td>\n",
       "      <td>December 29, 2017</td>\n",
       "    </tr>\n",
       "    <tr>\n",
       "      <th>4</th>\n",
       "      <td>Pope Francis Just Called Out Donald Trump Dur...</td>\n",
       "      <td>Pope Francis used his annual Christmas Day mes...</td>\n",
       "      <td>News</td>\n",
       "      <td>December 25, 2017</td>\n",
       "    </tr>\n",
       "  </tbody>\n",
       "</table>\n",
       "</div>"
      ],
      "text/plain": [
       "                                               title  \\\n",
       "0   Donald Trump Sends Out Embarrassing New Year’...   \n",
       "1   Drunk Bragging Trump Staffer Started Russian ...   \n",
       "2   Sheriff David Clarke Becomes An Internet Joke...   \n",
       "3   Trump Is So Obsessed He Even Has Obama’s Name...   \n",
       "4   Pope Francis Just Called Out Donald Trump Dur...   \n",
       "\n",
       "                                                text subject  \\\n",
       "0  Donald Trump just couldn t wish all Americans ...    News   \n",
       "1  House Intelligence Committee Chairman Devin Nu...    News   \n",
       "2  On Friday, it was revealed that former Milwauk...    News   \n",
       "3  On Christmas day, Donald Trump announced that ...    News   \n",
       "4  Pope Francis used his annual Christmas Day mes...    News   \n",
       "\n",
       "                date  \n",
       "0  December 31, 2017  \n",
       "1  December 31, 2017  \n",
       "2  December 30, 2017  \n",
       "3  December 29, 2017  \n",
       "4  December 25, 2017  "
      ]
     },
     "execution_count": 3,
     "metadata": {},
     "output_type": "execute_result"
    }
   ],
   "source": [
    "# observe the first 5 rows of true News\n",
    "fakeData.head()"
   ]
  },
  {
   "cell_type": "code",
   "execution_count": 4,
   "id": "542226ac-baca-4bc0-961d-ed6ccebf7cac",
   "metadata": {},
   "outputs": [
    {
     "name": "stdout",
     "output_type": "stream",
     "text": [
      "<class 'pandas.core.frame.DataFrame'>\n",
      "RangeIndex: 23481 entries, 0 to 23480\n",
      "Data columns (total 4 columns):\n",
      " #   Column   Non-Null Count  Dtype \n",
      "---  ------   --------------  ----- \n",
      " 0   title    23481 non-null  object\n",
      " 1   text     23481 non-null  object\n",
      " 2   subject  23481 non-null  object\n",
      " 3   date     23481 non-null  object\n",
      "dtypes: object(4)\n",
      "memory usage: 733.9+ KB\n"
     ]
    }
   ],
   "source": [
    "#information about fields\n",
    "fakeData.info()"
   ]
  },
  {
   "cell_type": "code",
   "execution_count": 5,
   "id": "e2b38972-c3b0-4878-8555-3dfb32391d69",
   "metadata": {},
   "outputs": [
    {
     "data": {
      "text/plain": [
       "'House Intelligence Committee Chairman Devin Nunes is going to have a bad day. He s been under the assumption, like many of us, that the Christopher Steele-dossier was what prompted the Russia investigation so he s been lashing out at the Department of Justice and the FBI in order to protect Trump. As it happens, the dossier is not what started the investigation, according to documents obtained by the New York Times.Former Trump campaign adviser George Papadopoulos was drunk in a wine bar when he revealed knowledge of Russian opposition research on Hillary Clinton.On top of that, Papadopoulos wasn t just a covfefe boy for Trump, as his administration has alleged. He had a much larger role, but none so damning as being a drunken fool in a wine bar. Coffee boys  don t help to arrange a New York meeting between Trump and President Abdel Fattah el-Sisi of Egypt two months before the election. It was known before that the former aide set up meetings with world leaders for Trump, but team Trump ran with him being merely a coffee boy.In May 2016, Papadopoulos revealed to Australian diplomat Alexander Downer that Russian officials were shopping around possible dirt on then-Democratic presidential nominee Hillary Clinton. Exactly how much Mr. Papadopoulos said that night at the Kensington Wine Rooms with the Australian, Alexander Downer, is unclear,  the report states.  But two months later, when leaked Democratic emails began appearing online, Australian officials passed the information about Mr. Papadopoulos to their American counterparts, according to four current and former American and foreign officials with direct knowledge of the Australians  role. Papadopoulos pleaded guilty to lying to the F.B.I. and is now a cooperating witness with Special Counsel Robert Mueller s team.This isn t a presidency. It s a badly scripted reality TV show.Photo by Win McNamee/Getty Images.'"
      ]
     },
     "execution_count": 5,
     "metadata": {},
     "output_type": "execute_result"
    }
   ],
   "source": [
    "fakeData['text'][1]"
   ]
  },
  {
   "cell_type": "code",
   "execution_count": 6,
   "id": "de609b74-2119-4b68-90a8-e1df9dd416fe",
   "metadata": {},
   "outputs": [
    {
     "data": {
      "text/html": [
       "<div>\n",
       "<style scoped>\n",
       "    .dataframe tbody tr th:only-of-type {\n",
       "        vertical-align: middle;\n",
       "    }\n",
       "\n",
       "    .dataframe tbody tr th {\n",
       "        vertical-align: top;\n",
       "    }\n",
       "\n",
       "    .dataframe thead th {\n",
       "        text-align: right;\n",
       "    }\n",
       "</style>\n",
       "<table border=\"1\" class=\"dataframe\">\n",
       "  <thead>\n",
       "    <tr style=\"text-align: right;\">\n",
       "      <th></th>\n",
       "      <th>title</th>\n",
       "      <th>text</th>\n",
       "      <th>subject</th>\n",
       "      <th>date</th>\n",
       "    </tr>\n",
       "  </thead>\n",
       "  <tbody>\n",
       "    <tr>\n",
       "      <th>0</th>\n",
       "      <td>As U.S. budget fight looms, Republicans flip t...</td>\n",
       "      <td>WASHINGTON (Reuters) - The head of a conservat...</td>\n",
       "      <td>politicsNews</td>\n",
       "      <td>December 31, 2017</td>\n",
       "    </tr>\n",
       "    <tr>\n",
       "      <th>1</th>\n",
       "      <td>U.S. military to accept transgender recruits o...</td>\n",
       "      <td>WASHINGTON (Reuters) - Transgender people will...</td>\n",
       "      <td>politicsNews</td>\n",
       "      <td>December 29, 2017</td>\n",
       "    </tr>\n",
       "    <tr>\n",
       "      <th>2</th>\n",
       "      <td>Senior U.S. Republican senator: 'Let Mr. Muell...</td>\n",
       "      <td>WASHINGTON (Reuters) - The special counsel inv...</td>\n",
       "      <td>politicsNews</td>\n",
       "      <td>December 31, 2017</td>\n",
       "    </tr>\n",
       "    <tr>\n",
       "      <th>3</th>\n",
       "      <td>FBI Russia probe helped by Australian diplomat...</td>\n",
       "      <td>WASHINGTON (Reuters) - Trump campaign adviser ...</td>\n",
       "      <td>politicsNews</td>\n",
       "      <td>December 30, 2017</td>\n",
       "    </tr>\n",
       "    <tr>\n",
       "      <th>4</th>\n",
       "      <td>Trump wants Postal Service to charge 'much mor...</td>\n",
       "      <td>SEATTLE/WASHINGTON (Reuters) - President Donal...</td>\n",
       "      <td>politicsNews</td>\n",
       "      <td>December 29, 2017</td>\n",
       "    </tr>\n",
       "  </tbody>\n",
       "</table>\n",
       "</div>"
      ],
      "text/plain": [
       "                                               title  \\\n",
       "0  As U.S. budget fight looms, Republicans flip t...   \n",
       "1  U.S. military to accept transgender recruits o...   \n",
       "2  Senior U.S. Republican senator: 'Let Mr. Muell...   \n",
       "3  FBI Russia probe helped by Australian diplomat...   \n",
       "4  Trump wants Postal Service to charge 'much mor...   \n",
       "\n",
       "                                                text       subject  \\\n",
       "0  WASHINGTON (Reuters) - The head of a conservat...  politicsNews   \n",
       "1  WASHINGTON (Reuters) - Transgender people will...  politicsNews   \n",
       "2  WASHINGTON (Reuters) - The special counsel inv...  politicsNews   \n",
       "3  WASHINGTON (Reuters) - Trump campaign adviser ...  politicsNews   \n",
       "4  SEATTLE/WASHINGTON (Reuters) - President Donal...  politicsNews   \n",
       "\n",
       "                 date  \n",
       "0  December 31, 2017   \n",
       "1  December 29, 2017   \n",
       "2  December 31, 2017   \n",
       "3  December 30, 2017   \n",
       "4  December 29, 2017   "
      ]
     },
     "execution_count": 6,
     "metadata": {},
     "output_type": "execute_result"
    }
   ],
   "source": [
    "# Observe the first 5 rows of True news\n",
    "trueData.head()"
   ]
  },
  {
   "cell_type": "code",
   "execution_count": 7,
   "id": "2eecebda-d5c5-4144-b006-e35cd92f6128",
   "metadata": {},
   "outputs": [
    {
     "data": {
      "text/plain": [
       "'WASHINGTON (Reuters) - The special counsel investigation of links between Russia and President Trump’s 2016 election campaign should continue without interference in 2018, despite calls from some Trump administration allies and Republican lawmakers to shut it down, a prominent Republican senator said on Sunday. Lindsey Graham, who serves on the Senate armed forces and judiciary committees, said Department of Justice Special Counsel Robert Mueller needs to carry on with his Russia investigation without political interference. “This investigation will go forward. It will be an investigation conducted without political influence,” Graham said on CBS’s Face the Nation news program. “And we all need to let Mr. Mueller do his job. I think he’s the right guy at the right time.”  The question of how Russia may have interfered in the election, and how Trump’s campaign may have had links with or co-ordinated any such effort, has loomed over the White House since Trump took office in January. It shows no sign of receding as Trump prepares for his second year in power, despite intensified rhetoric from some Trump allies in recent weeks accusing Mueller’s team of bias against the Republican president. Trump himself seemed to undercut his supporters in an interview last week with the New York Times in which he said he expected Mueller was “going to be fair.”    Russia’s role in the election and the question of possible links to the Trump campaign are the focus of multiple inquiries in Washington. Three committees of the Senate and the House of Representatives are investigating, as well as Mueller, whose team in May took over an earlier probe launched by the U.S. Federal Bureau of Investigation (FBI). Several members of the Trump campaign and administration have been convicted or indicted in the investigation.  Trump and his allies deny any collusion with Russia during the campaign, and the Kremlin has denied meddling in the election. Graham said he still wants an examination of the FBI’s use of a dossier on links between Trump and Russia that was compiled by a former British spy, Christopher Steele, which prompted Trump allies and some Republicans to question Mueller’s inquiry.   On Saturday, the New York Times reported that it was not that dossier that triggered an early FBI probe, but a tip from former Trump campaign foreign policy adviser George Papadopoulos to an Australian diplomat that Russia had damaging information about former Trump rival Hillary Clinton.  “I want somebody to look at the way the Department of Justice used this dossier. It bothers me greatly the way they used it, and I want somebody to look at it,” Graham said. But he said the Russia investigation must continue. “As a matter of fact, it would hurt us if we ignored it,” he said. '"
      ]
     },
     "execution_count": 7,
     "metadata": {},
     "output_type": "execute_result"
    }
   ],
   "source": [
    "trueData['text'][2]"
   ]
  },
  {
   "cell_type": "code",
   "execution_count": 8,
   "id": "d44a2993-150d-4f20-8bd6-baafe9bd39f6",
   "metadata": {},
   "outputs": [],
   "source": [
    "# create our target variable for both data frames\n",
    "# if news article is fake it will be denoted as 0\n",
    "fakeData['class'] = 0\n",
    "# if news article is true it will be denoted as 1\n",
    "trueData['class'] = 1"
   ]
  },
  {
   "cell_type": "code",
   "execution_count": 9,
   "id": "00631d4c-187b-4b5d-a9e3-30f415761484",
   "metadata": {},
   "outputs": [
    {
     "data": {
      "text/html": [
       "<div>\n",
       "<style scoped>\n",
       "    .dataframe tbody tr th:only-of-type {\n",
       "        vertical-align: middle;\n",
       "    }\n",
       "\n",
       "    .dataframe tbody tr th {\n",
       "        vertical-align: top;\n",
       "    }\n",
       "\n",
       "    .dataframe thead th {\n",
       "        text-align: right;\n",
       "    }\n",
       "</style>\n",
       "<table border=\"1\" class=\"dataframe\">\n",
       "  <thead>\n",
       "    <tr style=\"text-align: right;\">\n",
       "      <th></th>\n",
       "      <th>title</th>\n",
       "      <th>text</th>\n",
       "      <th>subject</th>\n",
       "      <th>date</th>\n",
       "      <th>class</th>\n",
       "    </tr>\n",
       "  </thead>\n",
       "  <tbody>\n",
       "    <tr>\n",
       "      <th>0</th>\n",
       "      <td>Donald Trump Sends Out Embarrassing New Year’...</td>\n",
       "      <td>Donald Trump just couldn t wish all Americans ...</td>\n",
       "      <td>News</td>\n",
       "      <td>December 31, 2017</td>\n",
       "      <td>0</td>\n",
       "    </tr>\n",
       "    <tr>\n",
       "      <th>1</th>\n",
       "      <td>Drunk Bragging Trump Staffer Started Russian ...</td>\n",
       "      <td>House Intelligence Committee Chairman Devin Nu...</td>\n",
       "      <td>News</td>\n",
       "      <td>December 31, 2017</td>\n",
       "      <td>0</td>\n",
       "    </tr>\n",
       "  </tbody>\n",
       "</table>\n",
       "</div>"
      ],
      "text/plain": [
       "                                               title  \\\n",
       "0   Donald Trump Sends Out Embarrassing New Year’...   \n",
       "1   Drunk Bragging Trump Staffer Started Russian ...   \n",
       "\n",
       "                                                text subject  \\\n",
       "0  Donald Trump just couldn t wish all Americans ...    News   \n",
       "1  House Intelligence Committee Chairman Devin Nu...    News   \n",
       "\n",
       "                date  class  \n",
       "0  December 31, 2017      0  \n",
       "1  December 31, 2017      0  "
      ]
     },
     "execution_count": 9,
     "metadata": {},
     "output_type": "execute_result"
    }
   ],
   "source": [
    "fakeData.head(2)"
   ]
  },
  {
   "cell_type": "code",
   "execution_count": 10,
   "id": "6502dbd9-9b8a-4f41-8a20-b2870140500c",
   "metadata": {},
   "outputs": [
    {
     "data": {
      "text/html": [
       "<div>\n",
       "<style scoped>\n",
       "    .dataframe tbody tr th:only-of-type {\n",
       "        vertical-align: middle;\n",
       "    }\n",
       "\n",
       "    .dataframe tbody tr th {\n",
       "        vertical-align: top;\n",
       "    }\n",
       "\n",
       "    .dataframe thead th {\n",
       "        text-align: right;\n",
       "    }\n",
       "</style>\n",
       "<table border=\"1\" class=\"dataframe\">\n",
       "  <thead>\n",
       "    <tr style=\"text-align: right;\">\n",
       "      <th></th>\n",
       "      <th>title</th>\n",
       "      <th>text</th>\n",
       "      <th>subject</th>\n",
       "      <th>date</th>\n",
       "      <th>class</th>\n",
       "    </tr>\n",
       "  </thead>\n",
       "  <tbody>\n",
       "    <tr>\n",
       "      <th>0</th>\n",
       "      <td>As U.S. budget fight looms, Republicans flip t...</td>\n",
       "      <td>WASHINGTON (Reuters) - The head of a conservat...</td>\n",
       "      <td>politicsNews</td>\n",
       "      <td>December 31, 2017</td>\n",
       "      <td>1</td>\n",
       "    </tr>\n",
       "    <tr>\n",
       "      <th>1</th>\n",
       "      <td>U.S. military to accept transgender recruits o...</td>\n",
       "      <td>WASHINGTON (Reuters) - Transgender people will...</td>\n",
       "      <td>politicsNews</td>\n",
       "      <td>December 29, 2017</td>\n",
       "      <td>1</td>\n",
       "    </tr>\n",
       "  </tbody>\n",
       "</table>\n",
       "</div>"
      ],
      "text/plain": [
       "                                               title  \\\n",
       "0  As U.S. budget fight looms, Republicans flip t...   \n",
       "1  U.S. military to accept transgender recruits o...   \n",
       "\n",
       "                                                text       subject  \\\n",
       "0  WASHINGTON (Reuters) - The head of a conservat...  politicsNews   \n",
       "1  WASHINGTON (Reuters) - Transgender people will...  politicsNews   \n",
       "\n",
       "                 date  class  \n",
       "0  December 31, 2017       1  \n",
       "1  December 29, 2017       1  "
      ]
     },
     "execution_count": 10,
     "metadata": {},
     "output_type": "execute_result"
    }
   ],
   "source": [
    "trueData.head(2)"
   ]
  },
  {
   "cell_type": "code",
   "execution_count": 11,
   "id": "50584dd2-16f0-454c-92b5-d32b6b4be3e5",
   "metadata": {},
   "outputs": [
    {
     "data": {
      "text/plain": [
       "((23481, 5), (21417, 5))"
      ]
     },
     "execution_count": 11,
     "metadata": {},
     "output_type": "execute_result"
    }
   ],
   "source": [
    "# shape of both data frames\n",
    "fakeData.shape, trueData.shape"
   ]
  },
  {
   "cell_type": "code",
   "execution_count": 12,
   "id": "f6f01ebb-9f53-4bbb-9bf0-9ad10a6e2eb8",
   "metadata": {},
   "outputs": [],
   "source": [
    "# putting last 10 rows of fake news into a data frame\n",
    "fakeData_manual_testing = fakeData.tail(10)\n",
    "\n",
    "# dropping the last 10 rows of fake news from original fake news df\n",
    "for i in range(23480, 23470, -1):\n",
    "    fakeData.drop([i], axis = 0, inplace = True)\n",
    "\n",
    "# putting last 10 rows of true news into a data frame\n",
    "trueData_manual_testing = trueData.tail(10)\n",
    "\n",
    "# dropping the last 10 rows of true news from original true news df\n",
    "for i in range(21416, 21406, -1):\n",
    "    trueData.drop([i], axis = 0, inplace = True)"
   ]
  },
  {
   "cell_type": "code",
   "execution_count": 13,
   "id": "7110b875-4e07-4a3a-a407-4e1700a60749",
   "metadata": {},
   "outputs": [
    {
     "data": {
      "text/plain": [
       "((23471, 5), (21407, 5))"
      ]
     },
     "execution_count": 13,
     "metadata": {},
     "output_type": "execute_result"
    }
   ],
   "source": [
    "# check both data frames dimensions after dropping the last 10 rows\n",
    "fakeData.shape, trueData.shape"
   ]
  },
  {
   "cell_type": "code",
   "execution_count": 14,
   "id": "51072e21-401f-4a39-8ba1-4859280303f2",
   "metadata": {},
   "outputs": [
    {
     "data": {
      "text/html": [
       "<div>\n",
       "<style scoped>\n",
       "    .dataframe tbody tr th:only-of-type {\n",
       "        vertical-align: middle;\n",
       "    }\n",
       "\n",
       "    .dataframe tbody tr th {\n",
       "        vertical-align: top;\n",
       "    }\n",
       "\n",
       "    .dataframe thead th {\n",
       "        text-align: right;\n",
       "    }\n",
       "</style>\n",
       "<table border=\"1\" class=\"dataframe\">\n",
       "  <thead>\n",
       "    <tr style=\"text-align: right;\">\n",
       "      <th></th>\n",
       "      <th>title</th>\n",
       "      <th>text</th>\n",
       "      <th>subject</th>\n",
       "      <th>date</th>\n",
       "      <th>class</th>\n",
       "    </tr>\n",
       "  </thead>\n",
       "  <tbody>\n",
       "    <tr>\n",
       "      <th>23471</th>\n",
       "      <td>Seven Iranians freed in the prisoner swap have...</td>\n",
       "      <td>21st Century Wire says This week, the historic...</td>\n",
       "      <td>Middle-east</td>\n",
       "      <td>January 20, 2016</td>\n",
       "      <td>0</td>\n",
       "    </tr>\n",
       "    <tr>\n",
       "      <th>23472</th>\n",
       "      <td>#Hashtag Hell &amp; The Fake Left</td>\n",
       "      <td>By Dady Chery and Gilbert MercierAll writers ...</td>\n",
       "      <td>Middle-east</td>\n",
       "      <td>January 19, 2016</td>\n",
       "      <td>0</td>\n",
       "    </tr>\n",
       "    <tr>\n",
       "      <th>23473</th>\n",
       "      <td>Astroturfing: Journalist Reveals Brainwashing ...</td>\n",
       "      <td>Vic Bishop Waking TimesOur reality is carefull...</td>\n",
       "      <td>Middle-east</td>\n",
       "      <td>January 19, 2016</td>\n",
       "      <td>0</td>\n",
       "    </tr>\n",
       "    <tr>\n",
       "      <th>23474</th>\n",
       "      <td>The New American Century: An Era of Fraud</td>\n",
       "      <td>Paul Craig RobertsIn the last years of the 20t...</td>\n",
       "      <td>Middle-east</td>\n",
       "      <td>January 19, 2016</td>\n",
       "      <td>0</td>\n",
       "    </tr>\n",
       "    <tr>\n",
       "      <th>23475</th>\n",
       "      <td>Hillary Clinton: ‘Israel First’ (and no peace ...</td>\n",
       "      <td>Robert Fantina CounterpunchAlthough the United...</td>\n",
       "      <td>Middle-east</td>\n",
       "      <td>January 18, 2016</td>\n",
       "      <td>0</td>\n",
       "    </tr>\n",
       "    <tr>\n",
       "      <th>23476</th>\n",
       "      <td>McPain: John McCain Furious That Iran Treated ...</td>\n",
       "      <td>21st Century Wire says As 21WIRE reported earl...</td>\n",
       "      <td>Middle-east</td>\n",
       "      <td>January 16, 2016</td>\n",
       "      <td>0</td>\n",
       "    </tr>\n",
       "    <tr>\n",
       "      <th>23477</th>\n",
       "      <td>JUSTICE? Yahoo Settles E-mail Privacy Class-ac...</td>\n",
       "      <td>21st Century Wire says It s a familiar theme. ...</td>\n",
       "      <td>Middle-east</td>\n",
       "      <td>January 16, 2016</td>\n",
       "      <td>0</td>\n",
       "    </tr>\n",
       "    <tr>\n",
       "      <th>23478</th>\n",
       "      <td>Sunnistan: US and Allied ‘Safe Zone’ Plan to T...</td>\n",
       "      <td>Patrick Henningsen  21st Century WireRemember ...</td>\n",
       "      <td>Middle-east</td>\n",
       "      <td>January 15, 2016</td>\n",
       "      <td>0</td>\n",
       "    </tr>\n",
       "    <tr>\n",
       "      <th>23479</th>\n",
       "      <td>How to Blow $700 Million: Al Jazeera America F...</td>\n",
       "      <td>21st Century Wire says Al Jazeera America will...</td>\n",
       "      <td>Middle-east</td>\n",
       "      <td>January 14, 2016</td>\n",
       "      <td>0</td>\n",
       "    </tr>\n",
       "    <tr>\n",
       "      <th>23480</th>\n",
       "      <td>10 U.S. Navy Sailors Held by Iranian Military ...</td>\n",
       "      <td>21st Century Wire says As 21WIRE predicted in ...</td>\n",
       "      <td>Middle-east</td>\n",
       "      <td>January 12, 2016</td>\n",
       "      <td>0</td>\n",
       "    </tr>\n",
       "  </tbody>\n",
       "</table>\n",
       "</div>"
      ],
      "text/plain": [
       "                                                   title  \\\n",
       "23471  Seven Iranians freed in the prisoner swap have...   \n",
       "23472                      #Hashtag Hell & The Fake Left   \n",
       "23473  Astroturfing: Journalist Reveals Brainwashing ...   \n",
       "23474          The New American Century: An Era of Fraud   \n",
       "23475  Hillary Clinton: ‘Israel First’ (and no peace ...   \n",
       "23476  McPain: John McCain Furious That Iran Treated ...   \n",
       "23477  JUSTICE? Yahoo Settles E-mail Privacy Class-ac...   \n",
       "23478  Sunnistan: US and Allied ‘Safe Zone’ Plan to T...   \n",
       "23479  How to Blow $700 Million: Al Jazeera America F...   \n",
       "23480  10 U.S. Navy Sailors Held by Iranian Military ...   \n",
       "\n",
       "                                                    text      subject  \\\n",
       "23471  21st Century Wire says This week, the historic...  Middle-east   \n",
       "23472   By Dady Chery and Gilbert MercierAll writers ...  Middle-east   \n",
       "23473  Vic Bishop Waking TimesOur reality is carefull...  Middle-east   \n",
       "23474  Paul Craig RobertsIn the last years of the 20t...  Middle-east   \n",
       "23475  Robert Fantina CounterpunchAlthough the United...  Middle-east   \n",
       "23476  21st Century Wire says As 21WIRE reported earl...  Middle-east   \n",
       "23477  21st Century Wire says It s a familiar theme. ...  Middle-east   \n",
       "23478  Patrick Henningsen  21st Century WireRemember ...  Middle-east   \n",
       "23479  21st Century Wire says Al Jazeera America will...  Middle-east   \n",
       "23480  21st Century Wire says As 21WIRE predicted in ...  Middle-east   \n",
       "\n",
       "                   date  class  \n",
       "23471  January 20, 2016      0  \n",
       "23472  January 19, 2016      0  \n",
       "23473  January 19, 2016      0  \n",
       "23474  January 19, 2016      0  \n",
       "23475  January 18, 2016      0  \n",
       "23476  January 16, 2016      0  \n",
       "23477  January 16, 2016      0  \n",
       "23478  January 15, 2016      0  \n",
       "23479  January 14, 2016      0  \n",
       "23480  January 12, 2016      0  "
      ]
     },
     "execution_count": 14,
     "metadata": {},
     "output_type": "execute_result"
    }
   ],
   "source": [
    "# looking at the 10 fake news observations that placed in a data frame\n",
    "fakeData_manual_testing.head(10)"
   ]
  },
  {
   "cell_type": "code",
   "execution_count": 15,
   "id": "8f1ee820-5ed8-4939-980c-8ac38b707634",
   "metadata": {},
   "outputs": [
    {
     "data": {
      "text/html": [
       "<div>\n",
       "<style scoped>\n",
       "    .dataframe tbody tr th:only-of-type {\n",
       "        vertical-align: middle;\n",
       "    }\n",
       "\n",
       "    .dataframe tbody tr th {\n",
       "        vertical-align: top;\n",
       "    }\n",
       "\n",
       "    .dataframe thead th {\n",
       "        text-align: right;\n",
       "    }\n",
       "</style>\n",
       "<table border=\"1\" class=\"dataframe\">\n",
       "  <thead>\n",
       "    <tr style=\"text-align: right;\">\n",
       "      <th></th>\n",
       "      <th>title</th>\n",
       "      <th>text</th>\n",
       "      <th>subject</th>\n",
       "      <th>date</th>\n",
       "      <th>class</th>\n",
       "    </tr>\n",
       "  </thead>\n",
       "  <tbody>\n",
       "    <tr>\n",
       "      <th>21407</th>\n",
       "      <td>Mata Pires, owner of embattled Brazil builder ...</td>\n",
       "      <td>SAO PAULO (Reuters) - Cesar Mata Pires, the ow...</td>\n",
       "      <td>worldnews</td>\n",
       "      <td>August 22, 2017</td>\n",
       "      <td>1</td>\n",
       "    </tr>\n",
       "    <tr>\n",
       "      <th>21408</th>\n",
       "      <td>U.S., North Korea clash at U.N. forum over nuc...</td>\n",
       "      <td>GENEVA (Reuters) - North Korea and the United ...</td>\n",
       "      <td>worldnews</td>\n",
       "      <td>August 22, 2017</td>\n",
       "      <td>1</td>\n",
       "    </tr>\n",
       "    <tr>\n",
       "      <th>21409</th>\n",
       "      <td>U.S., North Korea clash at U.N. arms forum on ...</td>\n",
       "      <td>GENEVA (Reuters) - North Korea and the United ...</td>\n",
       "      <td>worldnews</td>\n",
       "      <td>August 22, 2017</td>\n",
       "      <td>1</td>\n",
       "    </tr>\n",
       "    <tr>\n",
       "      <th>21410</th>\n",
       "      <td>Headless torso could belong to submarine journ...</td>\n",
       "      <td>COPENHAGEN (Reuters) - Danish police said on T...</td>\n",
       "      <td>worldnews</td>\n",
       "      <td>August 22, 2017</td>\n",
       "      <td>1</td>\n",
       "    </tr>\n",
       "    <tr>\n",
       "      <th>21411</th>\n",
       "      <td>North Korea shipments to Syria chemical arms a...</td>\n",
       "      <td>UNITED NATIONS (Reuters) - Two North Korean sh...</td>\n",
       "      <td>worldnews</td>\n",
       "      <td>August 21, 2017</td>\n",
       "      <td>1</td>\n",
       "    </tr>\n",
       "    <tr>\n",
       "      <th>21412</th>\n",
       "      <td>'Fully committed' NATO backs new U.S. approach...</td>\n",
       "      <td>BRUSSELS (Reuters) - NATO allies on Tuesday we...</td>\n",
       "      <td>worldnews</td>\n",
       "      <td>August 22, 2017</td>\n",
       "      <td>1</td>\n",
       "    </tr>\n",
       "    <tr>\n",
       "      <th>21413</th>\n",
       "      <td>LexisNexis withdrew two products from Chinese ...</td>\n",
       "      <td>LONDON (Reuters) - LexisNexis, a provider of l...</td>\n",
       "      <td>worldnews</td>\n",
       "      <td>August 22, 2017</td>\n",
       "      <td>1</td>\n",
       "    </tr>\n",
       "    <tr>\n",
       "      <th>21414</th>\n",
       "      <td>Minsk cultural hub becomes haven from authorities</td>\n",
       "      <td>MINSK (Reuters) - In the shadow of disused Sov...</td>\n",
       "      <td>worldnews</td>\n",
       "      <td>August 22, 2017</td>\n",
       "      <td>1</td>\n",
       "    </tr>\n",
       "    <tr>\n",
       "      <th>21415</th>\n",
       "      <td>Vatican upbeat on possibility of Pope Francis ...</td>\n",
       "      <td>MOSCOW (Reuters) - Vatican Secretary of State ...</td>\n",
       "      <td>worldnews</td>\n",
       "      <td>August 22, 2017</td>\n",
       "      <td>1</td>\n",
       "    </tr>\n",
       "    <tr>\n",
       "      <th>21416</th>\n",
       "      <td>Indonesia to buy $1.14 billion worth of Russia...</td>\n",
       "      <td>JAKARTA (Reuters) - Indonesia will buy 11 Sukh...</td>\n",
       "      <td>worldnews</td>\n",
       "      <td>August 22, 2017</td>\n",
       "      <td>1</td>\n",
       "    </tr>\n",
       "  </tbody>\n",
       "</table>\n",
       "</div>"
      ],
      "text/plain": [
       "                                                   title  \\\n",
       "21407  Mata Pires, owner of embattled Brazil builder ...   \n",
       "21408  U.S., North Korea clash at U.N. forum over nuc...   \n",
       "21409  U.S., North Korea clash at U.N. arms forum on ...   \n",
       "21410  Headless torso could belong to submarine journ...   \n",
       "21411  North Korea shipments to Syria chemical arms a...   \n",
       "21412  'Fully committed' NATO backs new U.S. approach...   \n",
       "21413  LexisNexis withdrew two products from Chinese ...   \n",
       "21414  Minsk cultural hub becomes haven from authorities   \n",
       "21415  Vatican upbeat on possibility of Pope Francis ...   \n",
       "21416  Indonesia to buy $1.14 billion worth of Russia...   \n",
       "\n",
       "                                                    text    subject  \\\n",
       "21407  SAO PAULO (Reuters) - Cesar Mata Pires, the ow...  worldnews   \n",
       "21408  GENEVA (Reuters) - North Korea and the United ...  worldnews   \n",
       "21409  GENEVA (Reuters) - North Korea and the United ...  worldnews   \n",
       "21410  COPENHAGEN (Reuters) - Danish police said on T...  worldnews   \n",
       "21411  UNITED NATIONS (Reuters) - Two North Korean sh...  worldnews   \n",
       "21412  BRUSSELS (Reuters) - NATO allies on Tuesday we...  worldnews   \n",
       "21413  LONDON (Reuters) - LexisNexis, a provider of l...  worldnews   \n",
       "21414  MINSK (Reuters) - In the shadow of disused Sov...  worldnews   \n",
       "21415  MOSCOW (Reuters) - Vatican Secretary of State ...  worldnews   \n",
       "21416  JAKARTA (Reuters) - Indonesia will buy 11 Sukh...  worldnews   \n",
       "\n",
       "                   date  class  \n",
       "21407  August 22, 2017       1  \n",
       "21408  August 22, 2017       1  \n",
       "21409  August 22, 2017       1  \n",
       "21410  August 22, 2017       1  \n",
       "21411  August 21, 2017       1  \n",
       "21412  August 22, 2017       1  \n",
       "21413  August 22, 2017       1  \n",
       "21414  August 22, 2017       1  \n",
       "21415  August 22, 2017       1  \n",
       "21416  August 22, 2017       1  "
      ]
     },
     "execution_count": 15,
     "metadata": {},
     "output_type": "execute_result"
    }
   ],
   "source": [
    "# look at the 10 observations of true news that placed in a dataframe\n",
    "trueData_manual_testing.head(10)"
   ]
  },
  {
   "cell_type": "code",
   "execution_count": 16,
   "id": "27b37073-9537-45dc-90c1-75211f31d142",
   "metadata": {},
   "outputs": [
    {
     "data": {
      "text/html": [
       "<div>\n",
       "<style scoped>\n",
       "    .dataframe tbody tr th:only-of-type {\n",
       "        vertical-align: middle;\n",
       "    }\n",
       "\n",
       "    .dataframe tbody tr th {\n",
       "        vertical-align: top;\n",
       "    }\n",
       "\n",
       "    .dataframe thead th {\n",
       "        text-align: right;\n",
       "    }\n",
       "</style>\n",
       "<table border=\"1\" class=\"dataframe\">\n",
       "  <thead>\n",
       "    <tr style=\"text-align: right;\">\n",
       "      <th></th>\n",
       "      <th>title</th>\n",
       "      <th>text</th>\n",
       "      <th>subject</th>\n",
       "      <th>date</th>\n",
       "      <th>class</th>\n",
       "    </tr>\n",
       "  </thead>\n",
       "  <tbody>\n",
       "    <tr>\n",
       "      <th>0</th>\n",
       "      <td>Donald Trump Sends Out Embarrassing New Year’...</td>\n",
       "      <td>Donald Trump just couldn t wish all Americans ...</td>\n",
       "      <td>News</td>\n",
       "      <td>December 31, 2017</td>\n",
       "      <td>0</td>\n",
       "    </tr>\n",
       "    <tr>\n",
       "      <th>1</th>\n",
       "      <td>Drunk Bragging Trump Staffer Started Russian ...</td>\n",
       "      <td>House Intelligence Committee Chairman Devin Nu...</td>\n",
       "      <td>News</td>\n",
       "      <td>December 31, 2017</td>\n",
       "      <td>0</td>\n",
       "    </tr>\n",
       "    <tr>\n",
       "      <th>2</th>\n",
       "      <td>Sheriff David Clarke Becomes An Internet Joke...</td>\n",
       "      <td>On Friday, it was revealed that former Milwauk...</td>\n",
       "      <td>News</td>\n",
       "      <td>December 30, 2017</td>\n",
       "      <td>0</td>\n",
       "    </tr>\n",
       "    <tr>\n",
       "      <th>3</th>\n",
       "      <td>Trump Is So Obsessed He Even Has Obama’s Name...</td>\n",
       "      <td>On Christmas day, Donald Trump announced that ...</td>\n",
       "      <td>News</td>\n",
       "      <td>December 29, 2017</td>\n",
       "      <td>0</td>\n",
       "    </tr>\n",
       "    <tr>\n",
       "      <th>4</th>\n",
       "      <td>Pope Francis Just Called Out Donald Trump Dur...</td>\n",
       "      <td>Pope Francis used his annual Christmas Day mes...</td>\n",
       "      <td>News</td>\n",
       "      <td>December 25, 2017</td>\n",
       "      <td>0</td>\n",
       "    </tr>\n",
       "    <tr>\n",
       "      <th>5</th>\n",
       "      <td>Racist Alabama Cops Brutalize Black Boy While...</td>\n",
       "      <td>The number of cases of cops brutalizing and ki...</td>\n",
       "      <td>News</td>\n",
       "      <td>December 25, 2017</td>\n",
       "      <td>0</td>\n",
       "    </tr>\n",
       "    <tr>\n",
       "      <th>6</th>\n",
       "      <td>Fresh Off The Golf Course, Trump Lashes Out A...</td>\n",
       "      <td>Donald Trump spent a good portion of his day a...</td>\n",
       "      <td>News</td>\n",
       "      <td>December 23, 2017</td>\n",
       "      <td>0</td>\n",
       "    </tr>\n",
       "    <tr>\n",
       "      <th>7</th>\n",
       "      <td>Trump Said Some INSANELY Racist Stuff Inside ...</td>\n",
       "      <td>In the wake of yet another court decision that...</td>\n",
       "      <td>News</td>\n",
       "      <td>December 23, 2017</td>\n",
       "      <td>0</td>\n",
       "    </tr>\n",
       "    <tr>\n",
       "      <th>8</th>\n",
       "      <td>Former CIA Director Slams Trump Over UN Bully...</td>\n",
       "      <td>Many people have raised the alarm regarding th...</td>\n",
       "      <td>News</td>\n",
       "      <td>December 22, 2017</td>\n",
       "      <td>0</td>\n",
       "    </tr>\n",
       "    <tr>\n",
       "      <th>9</th>\n",
       "      <td>WATCH: Brand-New Pro-Trump Ad Features So Muc...</td>\n",
       "      <td>Just when you might have thought we d get a br...</td>\n",
       "      <td>News</td>\n",
       "      <td>December 21, 2017</td>\n",
       "      <td>0</td>\n",
       "    </tr>\n",
       "  </tbody>\n",
       "</table>\n",
       "</div>"
      ],
      "text/plain": [
       "                                               title  \\\n",
       "0   Donald Trump Sends Out Embarrassing New Year’...   \n",
       "1   Drunk Bragging Trump Staffer Started Russian ...   \n",
       "2   Sheriff David Clarke Becomes An Internet Joke...   \n",
       "3   Trump Is So Obsessed He Even Has Obama’s Name...   \n",
       "4   Pope Francis Just Called Out Donald Trump Dur...   \n",
       "5   Racist Alabama Cops Brutalize Black Boy While...   \n",
       "6   Fresh Off The Golf Course, Trump Lashes Out A...   \n",
       "7   Trump Said Some INSANELY Racist Stuff Inside ...   \n",
       "8   Former CIA Director Slams Trump Over UN Bully...   \n",
       "9   WATCH: Brand-New Pro-Trump Ad Features So Muc...   \n",
       "\n",
       "                                                text subject  \\\n",
       "0  Donald Trump just couldn t wish all Americans ...    News   \n",
       "1  House Intelligence Committee Chairman Devin Nu...    News   \n",
       "2  On Friday, it was revealed that former Milwauk...    News   \n",
       "3  On Christmas day, Donald Trump announced that ...    News   \n",
       "4  Pope Francis used his annual Christmas Day mes...    News   \n",
       "5  The number of cases of cops brutalizing and ki...    News   \n",
       "6  Donald Trump spent a good portion of his day a...    News   \n",
       "7  In the wake of yet another court decision that...    News   \n",
       "8  Many people have raised the alarm regarding th...    News   \n",
       "9  Just when you might have thought we d get a br...    News   \n",
       "\n",
       "                date  class  \n",
       "0  December 31, 2017      0  \n",
       "1  December 31, 2017      0  \n",
       "2  December 30, 2017      0  \n",
       "3  December 29, 2017      0  \n",
       "4  December 25, 2017      0  \n",
       "5  December 25, 2017      0  \n",
       "6  December 23, 2017      0  \n",
       "7  December 23, 2017      0  \n",
       "8  December 22, 2017      0  \n",
       "9  December 21, 2017      0  "
      ]
     },
     "execution_count": 16,
     "metadata": {},
     "output_type": "execute_result"
    }
   ],
   "source": [
    "# combine the 2 data frames containing both fake and true news \n",
    "# combing the two frames on the rows axis\n",
    "mergeData = pd.concat([fakeData,trueData], axis = 0)\n",
    "mergeData.head(10)"
   ]
  },
  {
   "cell_type": "code",
   "execution_count": 17,
   "id": "170dd579-764d-4c39-ac47-e862865f4d8b",
   "metadata": {},
   "outputs": [
    {
     "data": {
      "text/plain": [
       "Index(['title', 'text', 'subject', 'date', 'class'], dtype='object')"
      ]
     },
     "execution_count": 17,
     "metadata": {},
     "output_type": "execute_result"
    }
   ],
   "source": [
    "# checking the columns of the combined data frames\n",
    "mergeData.columns"
   ]
  },
  {
   "cell_type": "code",
   "execution_count": 18,
   "id": "bacb8775-7aef-46b4-a441-3535d343a44d",
   "metadata": {},
   "outputs": [],
   "source": [
    "# dropping the columns title, subject, date and putting into a new data frame\n",
    "# only keeping the text and class\n",
    "script = mergeData.drop(['title','subject','date'], axis = 1)"
   ]
  },
  {
   "cell_type": "code",
   "execution_count": 19,
   "id": "54cf756e-4300-4dd7-bca0-b8f287deaeb8",
   "metadata": {},
   "outputs": [
    {
     "data": {
      "text/plain": [
       "text     0\n",
       "class    0\n",
       "dtype: int64"
      ]
     },
     "execution_count": 19,
     "metadata": {},
     "output_type": "execute_result"
    }
   ],
   "source": [
    "# check for missing values\n",
    "script.isna().sum()"
   ]
  },
  {
   "cell_type": "code",
   "execution_count": 20,
   "id": "8476ec23-42e5-4012-9782-b8b0c045d60b",
   "metadata": {},
   "outputs": [
    {
     "data": {
      "text/html": [
       "<div>\n",
       "<style scoped>\n",
       "    .dataframe tbody tr th:only-of-type {\n",
       "        vertical-align: middle;\n",
       "    }\n",
       "\n",
       "    .dataframe tbody tr th {\n",
       "        vertical-align: top;\n",
       "    }\n",
       "\n",
       "    .dataframe thead th {\n",
       "        text-align: right;\n",
       "    }\n",
       "</style>\n",
       "<table border=\"1\" class=\"dataframe\">\n",
       "  <thead>\n",
       "    <tr style=\"text-align: right;\">\n",
       "      <th></th>\n",
       "      <th>text</th>\n",
       "      <th>class</th>\n",
       "    </tr>\n",
       "  </thead>\n",
       "  <tbody>\n",
       "    <tr>\n",
       "      <th>21114</th>\n",
       "      <td>This hero s response to the threat of Islamic ...</td>\n",
       "      <td>0</td>\n",
       "    </tr>\n",
       "    <tr>\n",
       "      <th>12731</th>\n",
       "      <td>Trump s latest accuser, Summer Zervos who was ...</td>\n",
       "      <td>0</td>\n",
       "    </tr>\n",
       "    <tr>\n",
       "      <th>2689</th>\n",
       "      <td>Donald Trump is apparently really angry that h...</td>\n",
       "      <td>0</td>\n",
       "    </tr>\n",
       "    <tr>\n",
       "      <th>21808</th>\n",
       "      <td>More and more dirt on these two grifters who r...</td>\n",
       "      <td>0</td>\n",
       "    </tr>\n",
       "    <tr>\n",
       "      <th>14961</th>\n",
       "      <td>LJUBLJANA (Reuters) - Anti-establishment Slove...</td>\n",
       "      <td>1</td>\n",
       "    </tr>\n",
       "  </tbody>\n",
       "</table>\n",
       "</div>"
      ],
      "text/plain": [
       "                                                    text  class\n",
       "21114  This hero s response to the threat of Islamic ...      0\n",
       "12731  Trump s latest accuser, Summer Zervos who was ...      0\n",
       "2689   Donald Trump is apparently really angry that h...      0\n",
       "21808  More and more dirt on these two grifters who r...      0\n",
       "14961  LJUBLJANA (Reuters) - Anti-establishment Slove...      1"
      ]
     },
     "execution_count": 20,
     "metadata": {},
     "output_type": "execute_result"
    }
   ],
   "source": [
    "# shuffle our data frame\n",
    "script = script.sample(frac = 1)\n",
    "script.head()"
   ]
  },
  {
   "cell_type": "code",
   "execution_count": 21,
   "id": "ad9192d5-21b4-4b7b-943e-1c2de67164b1",
   "metadata": {},
   "outputs": [],
   "source": [
    "# reset the index\n",
    "script.reset_index(inplace = True)\n",
    "\n",
    "# drop the old index\n",
    "script.drop(['index'], axis = 1, inplace = True)"
   ]
  },
  {
   "cell_type": "code",
   "execution_count": 22,
   "id": "0a0579e9-cb3c-4d2d-bf3a-75803f089712",
   "metadata": {},
   "outputs": [
    {
     "data": {
      "text/plain": [
       "Index(['text', 'class'], dtype='object')"
      ]
     },
     "execution_count": 22,
     "metadata": {},
     "output_type": "execute_result"
    }
   ],
   "source": [
    "#recall again column\n",
    "script.columns"
   ]
  },
  {
   "cell_type": "code",
   "execution_count": 23,
   "id": "b5cbbe8a-0279-4499-9edd-3e20edd374c3",
   "metadata": {},
   "outputs": [
    {
     "data": {
      "text/html": [
       "<div>\n",
       "<style scoped>\n",
       "    .dataframe tbody tr th:only-of-type {\n",
       "        vertical-align: middle;\n",
       "    }\n",
       "\n",
       "    .dataframe tbody tr th {\n",
       "        vertical-align: top;\n",
       "    }\n",
       "\n",
       "    .dataframe thead th {\n",
       "        text-align: right;\n",
       "    }\n",
       "</style>\n",
       "<table border=\"1\" class=\"dataframe\">\n",
       "  <thead>\n",
       "    <tr style=\"text-align: right;\">\n",
       "      <th></th>\n",
       "      <th>text</th>\n",
       "      <th>class</th>\n",
       "    </tr>\n",
       "  </thead>\n",
       "  <tbody>\n",
       "    <tr>\n",
       "      <th>0</th>\n",
       "      <td>This hero s response to the threat of Islamic ...</td>\n",
       "      <td>0</td>\n",
       "    </tr>\n",
       "    <tr>\n",
       "      <th>1</th>\n",
       "      <td>Trump s latest accuser, Summer Zervos who was ...</td>\n",
       "      <td>0</td>\n",
       "    </tr>\n",
       "    <tr>\n",
       "      <th>2</th>\n",
       "      <td>Donald Trump is apparently really angry that h...</td>\n",
       "      <td>0</td>\n",
       "    </tr>\n",
       "    <tr>\n",
       "      <th>3</th>\n",
       "      <td>More and more dirt on these two grifters who r...</td>\n",
       "      <td>0</td>\n",
       "    </tr>\n",
       "    <tr>\n",
       "      <th>4</th>\n",
       "      <td>LJUBLJANA (Reuters) - Anti-establishment Slove...</td>\n",
       "      <td>1</td>\n",
       "    </tr>\n",
       "  </tbody>\n",
       "</table>\n",
       "</div>"
      ],
      "text/plain": [
       "                                                text  class\n",
       "0  This hero s response to the threat of Islamic ...      0\n",
       "1  Trump s latest accuser, Summer Zervos who was ...      0\n",
       "2  Donald Trump is apparently really angry that h...      0\n",
       "3  More and more dirt on these two grifters who r...      0\n",
       "4  LJUBLJANA (Reuters) - Anti-establishment Slove...      1"
      ]
     },
     "execution_count": 23,
     "metadata": {},
     "output_type": "execute_result"
    }
   ],
   "source": [
    "script.head()"
   ]
  },
  {
   "cell_type": "code",
   "execution_count": 24,
   "id": "22e0e525-fd4d-47d9-b1fe-918fe7510263",
   "metadata": {},
   "outputs": [
    {
     "data": {
      "text/plain": [
       "'More and more dirt on these two grifters who re shockingly still denying the truth or saying nothing to defend themselves. They have pocketed most of the donations with only 15 cents of every dollar donated going to charity. And now this  A charity affiliated with the Clinton Foundation failed to reveal the identities of its 1,100 donors, creating a broad exception to the foundation s promise to disclose funding sources as part of an ethics agreement with the Obama administration.The number of undisclosed contributors to the charity, the Canada-based Clinton Giustra Enterprise Partnership, signals a larger zone of secrecy around foundation donors than was previously known.Details of the organization s fundraising were disclosed this week by a spokeswoman for the Canadian group s founder, mining magnate Frank Giustra.The Canadian group has received attention in recent days as a potential avenue for anonymous Clinton Foundation donations from foreign business executives, including some who had interests before the U.S. government while Hillary Rodham Clinton was secretary of state.The partnership, named in part for Bill Clinton, sends much of its money to the New York-based Clinton Foundation. Two of the partnership s known donors   Giustra and another mining executive, Ian Telfer   are featured in the soon-to-be-released book  Clinton Cash  for their roles in a series of deals that resulted in Russia controlling many uranium deposits around the world and in the United States.With the foundation s finances emerging as an issue for Hillary Clinton s presidential campaign, a foundation official this week defended the arrangement with the Giustra group, noting in a blog post that Canadian law prevents charities in that country from disclosing their donors without the donors  permission.The Canadian partnership has in recent days begun to reach out to its 28 largest donors, each of whom gave donations equivalent to at least $250,000 in U.S. dollars, to seek permission to release their names, said a person familiar with the foundation, who was not authorized to speak publicly about the matter.The large number of undisclosed supporters of a Clinton-affiliated charity raises new questions about the foundation s adherence to the 2008 ethics agreement it struck with the Obama administration, which was designed to avoid conflicts of interest during Hillary Clinton s tenure at the State Department.Read more: WaPo'"
      ]
     },
     "execution_count": 24,
     "metadata": {},
     "output_type": "execute_result"
    }
   ],
   "source": [
    "# first observation text\n",
    "script['text'][3]"
   ]
  },
  {
   "cell_type": "code",
   "execution_count": 25,
   "id": "2ff0e8ba-89df-4e46-95ca-ef844eb4966c",
   "metadata": {},
   "outputs": [
    {
     "data": {
      "text/plain": [
       "(44878, 2)"
      ]
     },
     "execution_count": 25,
     "metadata": {},
     "output_type": "execute_result"
    }
   ],
   "source": [
    "script.shape"
   ]
  },
  {
   "cell_type": "code",
   "execution_count": 26,
   "id": "154b65c4-9962-4b13-89d6-cc6fa1a96836",
   "metadata": {},
   "outputs": [
    {
     "data": {
      "text/plain": [
       "class\n",
       "0    23471\n",
       "1    21407\n",
       "Name: count, dtype: int64"
      ]
     },
     "execution_count": 26,
     "metadata": {},
     "output_type": "execute_result"
    }
   ],
   "source": [
    "#number of real and fake news\n",
    "script['class'].value_counts()"
   ]
  },
  {
   "cell_type": "code",
   "execution_count": 27,
   "id": "7f653a92-a177-4beb-bf8f-e1068a2108b0",
   "metadata": {},
   "outputs": [
    {
     "data": {
      "image/png": "[encoded data removed]",
      "text/plain": [
       "<Figure size 640x480 with 1 Axes>"
      ]
     },
     "metadata": {},
     "output_type": "display_data"
    }
   ],
   "source": [
    "# Example list of colors\n",
    "colors = ['red', 'green']  # Assign 'green' for true(1), 'red' for fake(0)\n",
    "\n",
    "script['class'].value_counts().plot.bar(color=colors)\n",
    "\n",
    "plt.xlabel('Class')\n",
    "plt.ylabel('Count')\n",
    "plt.title('True and Fake News Samples')\n",
    "plt.show()\n"
   ]
  },
  {
   "cell_type": "markdown",
   "id": "4131aef4-4f41-4a2f-bf3e-de95269ae7c0",
   "metadata": {},
   "source": [
    "0 = fake and 1 = Real"
   ]
  },
  {
   "cell_type": "markdown",
   "id": "22b42de0-d6d5-428c-911d-d561e911541c",
   "metadata": {},
   "source": [
    "# Preprocess Text"
   ]
  },
  {
   "cell_type": "code",
   "execution_count": 28,
   "id": "e3ea00e3-e27f-4198-bd2c-65ccb78e787f",
   "metadata": {},
   "outputs": [
    {
     "name": "stderr",
     "output_type": "stream",
     "text": [
      "<>:8: SyntaxWarning: invalid escape sequence '\\['\n",
      "<>:10: SyntaxWarning: invalid escape sequence '\\S'\n",
      "<>:14: SyntaxWarning: invalid escape sequence '\\w'\n",
      "<>:8: SyntaxWarning: invalid escape sequence '\\['\n",
      "<>:10: SyntaxWarning: invalid escape sequence '\\S'\n",
      "<>:14: SyntaxWarning: invalid escape sequence '\\w'\n",
      "C:\\Users\\loonl\\AppData\\Local\\Temp\\ipykernel_8312\\2038320969.py:8: SyntaxWarning: invalid escape sequence '\\['\n",
      "  script = re.sub('\\[.*?\\]','', script) # remove anything with and within brackets\n",
      "C:\\Users\\loonl\\AppData\\Local\\Temp\\ipykernel_8312\\2038320969.py:10: SyntaxWarning: invalid escape sequence '\\S'\n",
      "  script= re.sub('https?://\\S+|www\\.\\S+','',script) # removes any links starting with https\n",
      "C:\\Users\\loonl\\AppData\\Local\\Temp\\ipykernel_8312\\2038320969.py:14: SyntaxWarning: invalid escape sequence '\\w'\n",
      "  script = re.sub('\\w*\\d\\w*','', script) # removes any string that contains atleast a digit with zero or more characters\n"
     ]
    }
   ],
   "source": [
    "# Creating a function to convert the text in lowercase, remove the extra space, special chr., ulr and links.\n",
    "\n",
    "import re\n",
    "import string\n",
    "\n",
    "def processWord(script):\n",
    "    script = script.lower() # lower case \n",
    "    script = re.sub('\\[.*?\\]','', script) # remove anything with and within brackets\n",
    "    script = re.sub('\\\\W',' ',script) # removes any character not a letter, digit, or underscore\n",
    "    script= re.sub('https?://\\S+|www\\.\\S+','',script) # removes any links starting with https\n",
    "    script = re.sub('<.*?>+','', script) # removes anything with and within < >\n",
    "    script = re.sub('[%s]' % re.escape(string.punctuation), '', script) # removes any string with % in it \n",
    "    script = re.sub('\\n','',script) # remove next lines\n",
    "    script = re.sub('\\w*\\d\\w*','', script) # removes any string that contains atleast a digit with zero or more characters\n",
    "    return script"
   ]
  },
  {
   "cell_type": "code",
   "execution_count": 29,
   "id": "37d9cc6a-124f-4826-9ee3-51e09a0c91f1",
   "metadata": {},
   "outputs": [],
   "source": [
    "# apply the function to the text column\n",
    "script['text'] = script['text'].apply(processWord)"
   ]
  },
  {
   "cell_type": "code",
   "execution_count": 30,
   "id": "60c3bb7a-a95f-4c2e-b409-f52e593a1447",
   "metadata": {},
   "outputs": [
    {
     "data": {
      "text/plain": [
       "'trump s latest accuser  summer zervos who was a contestant on  the apprentice   stood next to high profile lawyer and hillary delegate  gloria allred today and read a statement accusing trump of inappropriate sexual behavior  tonight  trump responds by telling voters zervos emailed him only  months ago asking for help  here is trump s response to the this and other false accusations that have mysteriously been levied against him all at once  only  weeks before the election  and in the midst of the release of wikileaks  emails that expose some of the most damning information about crooked hillary to date  trump also makes a promise to his supporters that he will now stay on track and to stop allowing the left to distract him and the voters from issues that are truly important to us '"
      ]
     },
     "execution_count": 30,
     "metadata": {},
     "output_type": "execute_result"
    }
   ],
   "source": [
    "# observing the updated text\n",
    "script['text'][1]"
   ]
  },
  {
   "cell_type": "code",
   "execution_count": 31,
   "id": "168f0fe3-2e4a-4a48-8068-93e6db8072f8",
   "metadata": {},
   "outputs": [],
   "source": [
    "# our predictor variable\n",
    "X = script['text']\n",
    "\n",
    "# our target variable\n",
    "y = script['class']"
   ]
  },
  {
   "cell_type": "code",
   "execution_count": 32,
   "id": "103706d7-3153-467f-af81-d13330370eaf",
   "metadata": {},
   "outputs": [],
   "source": [
    "# train test split the data\n",
    "X_train, X_test, y_train, y_test = train_test_split(X,y, test_size = 0.3, random_state = 42)"
   ]
  },
  {
   "cell_type": "code",
   "execution_count": 33,
   "id": "ce420b43-35e8-424d-992f-bc0d7970ef74",
   "metadata": {},
   "outputs": [],
   "source": [
    "from sklearn.feature_extraction.text import TfidfVectorizer\n",
    "from sklearn.model_selection import cross_val_score\n",
    "\n",
    "# TF (Term Frequency): How frequently a word occurs in a document.\n",
    "# IDF (Inverse Document Frequency): Measures how important a word is in relation to the entire corpus of documents.\n",
    "# Words that appear in many documents are considered less informative.\n",
    "\n",
    "# instantiate TfidfVectorizer\n",
    "vc = TfidfVectorizer(max_df=0.7)\n",
    "# max_df = that words appearing in more than 70% of the documents should be ignored.\n",
    "\n",
    "# fit transform our document (X_train)\n",
    "# x_train_cv\n",
    "tfidf_train = vc.fit_transform(X_train) \n",
    "\n",
    "# transform our X_test \n",
    "# note we dont have to fit the testing set\n",
    "# X_test_cv\n",
    "tfidf_test = vc.transform(X_test)"
   ]
  },
  {
   "cell_type": "code",
   "execution_count": 34,
   "id": "2c11add8-b371-4926-97c8-70d68943b74a",
   "metadata": {},
   "outputs": [
    {
     "name": "stdout",
     "output_type": "stream",
     "text": [
      "  (0, 3479)\t0.025192982671455432\n",
      "  (0, 24518)\t0.034997693878457664\n",
      "  (0, 17565)\t0.02162636678226794\n",
      "  (0, 81701)\t0.035602116156321875\n",
      "  (0, 67647)\t0.06988044206881547\n",
      "  (0, 7298)\t0.021443232449446386\n",
      "  (0, 10613)\t0.03609407087430571\n",
      "  (0, 4989)\t0.049796583395292277\n",
      "  (0, 65164)\t0.05710837374465789\n",
      "  (0, 26394)\t0.04341334037308042\n",
      "  (0, 51717)\t0.030096601106811054\n",
      "  (0, 89492)\t0.013744462054561668\n",
      "  (0, 88052)\t0.049343168085774436\n",
      "  (0, 25774)\t0.06884858855220927\n",
      "  (0, 13091)\t0.035823436894458514\n",
      "  (0, 89139)\t0.03760763879417312\n",
      "  (0, 56561)\t0.030921098422561816\n",
      "  (0, 741)\t0.031136144535674794\n",
      "  (0, 72576)\t0.02479494829322127\n",
      "  (0, 7975)\t0.023961922382895583\n",
      "  (0, 17103)\t0.055985729345876346\n",
      "  (0, 78379)\t0.048103633383866196\n",
      "  (0, 81549)\t0.01793853010051407\n",
      "  (0, 19090)\t0.05838781182123916\n",
      "  (0, 347)\t0.015233573367838855\n",
      "  :\t:\n",
      "  (31413, 76162)\t0.04727146904231569\n",
      "  (31413, 51859)\t0.09882119334186759\n",
      "  (31413, 40342)\t0.08460277271636106\n",
      "  (31413, 1402)\t0.03960109856212382\n",
      "  (31413, 82523)\t0.04723936894311394\n",
      "  (31413, 76883)\t0.15157724788999197\n",
      "  (31413, 62444)\t0.06918419544674899\n",
      "  (31413, 77511)\t0.04979974774483459\n",
      "  (31413, 36882)\t0.10251240083577098\n",
      "  (31413, 33942)\t0.07940708757476643\n",
      "  (31413, 77485)\t0.04816253685087676\n",
      "  (31413, 30126)\t0.06487150804607451\n",
      "  (31413, 58629)\t0.04626006748624268\n",
      "  (31413, 17565)\t0.05331647537322175\n",
      "  (31413, 347)\t0.03755602813406886\n",
      "  (31413, 56634)\t0.03165698731269051\n",
      "  (31413, 7078)\t0.03146028231390162\n",
      "  (31413, 29434)\t0.08014149384608123\n",
      "  (31413, 63528)\t0.03716912575482226\n",
      "  (31413, 81718)\t0.03264009337397873\n",
      "  (31413, 46639)\t0.4636015829201857\n",
      "  (31413, 3036)\t0.0325248817903291\n",
      "  (31413, 85707)\t0.10467823905092546\n",
      "  (31413, 26279)\t0.08599482930677874\n",
      "  (31413, 68609)\t0.03899301448127904\n"
     ]
    }
   ],
   "source": [
    "print(tfidf_train)"
   ]
  },
  {
   "cell_type": "code",
   "execution_count": 35,
   "id": "0d57607b-cf17-463f-9582-c0434f0f5b90",
   "metadata": {},
   "outputs": [
    {
     "name": "stdout",
     "output_type": "stream",
     "text": [
      "  (0, 89324)\t0.1169232232472109\n",
      "  (0, 77485)\t0.10044875152993873\n",
      "  (0, 77256)\t0.17275785047052253\n",
      "  (0, 76410)\t0.16951495212605924\n",
      "  (0, 73669)\t0.11184416050214704\n",
      "  (0, 72538)\t0.1407668760836796\n",
      "  (0, 67932)\t0.2729570215071557\n",
      "  (0, 66332)\t0.16095843667823845\n",
      "  (0, 63455)\t0.2222899968351341\n",
      "  (0, 62368)\t0.15453010914448648\n",
      "  (0, 59888)\t0.4837931769440601\n",
      "  (0, 59845)\t0.24640601842164814\n",
      "  (0, 58900)\t0.09220076470341962\n",
      "  (0, 58018)\t0.1066459572658772\n",
      "  (0, 53231)\t0.08347280667550032\n",
      "  (0, 39495)\t0.30423385531871483\n",
      "  (0, 35942)\t0.13161308251824713\n",
      "  (0, 35560)\t0.22931892767184903\n",
      "  (0, 34760)\t0.06551218705966043\n",
      "  (0, 31949)\t0.16027637232060743\n",
      "  (0, 29593)\t0.11585498660290751\n",
      "  (0, 14973)\t0.13207407254338627\n",
      "  (0, 11901)\t0.09648519458571664\n",
      "  (0, 9885)\t0.396725991640791\n",
      "  (1, 91358)\t0.019271726339794435\n",
      "  :\t:\n",
      "  (13463, 2119)\t0.02118111592596737\n",
      "  (13463, 1914)\t0.031188855857574416\n",
      "  (13463, 1718)\t0.015694066743458353\n",
      "  (13463, 1463)\t0.01945652246995301\n",
      "  (13463, 1460)\t0.021254412900563707\n",
      "  (13463, 1455)\t0.016994105777549832\n",
      "  (13463, 1453)\t0.013966614281319597\n",
      "  (13463, 1451)\t0.01669666313173596\n",
      "  (13463, 1431)\t0.02742929273065169\n",
      "  (13463, 1429)\t0.01306778202584871\n",
      "  (13463, 1402)\t0.007251068346985331\n",
      "  (13463, 1333)\t0.020567040070326312\n",
      "  (13463, 1330)\t0.025102684810879666\n",
      "  (13463, 1292)\t0.029610814056650923\n",
      "  (13463, 1133)\t0.019905870251901603\n",
      "  (13463, 1067)\t0.02236976662312017\n",
      "  (13463, 1037)\t0.03125912486857242\n",
      "  (13463, 795)\t0.027671600579840836\n",
      "  (13463, 787)\t0.03967056080290255\n",
      "  (13463, 753)\t0.04333716950771273\n",
      "  (13463, 744)\t0.013794906235208694\n",
      "  (13463, 627)\t0.018780311325277646\n",
      "  (13463, 579)\t0.010539399001416275\n",
      "  (13463, 529)\t0.016333146351337514\n",
      "  (13463, 347)\t0.020629831246795034\n"
     ]
    }
   ],
   "source": [
    "print(tfidf_test)"
   ]
  },
  {
   "cell_type": "markdown",
   "id": "667eac8b-e47a-4887-96e4-c44acea8c666",
   "metadata": {},
   "source": [
    "# Logistic Regressiom"
   ]
  },
  {
   "cell_type": "code",
   "execution_count": 36,
   "id": "41a84c59-e455-45f8-bbdc-c3081060065b",
   "metadata": {},
   "outputs": [
    {
     "name": "stdout",
     "output_type": "stream",
     "text": [
      "[0 1 1 ... 1 0 0]\n"
     ]
    }
   ],
   "source": [
    "# import Logistic Regression\n",
    "from sklearn.linear_model import LogisticRegression\n",
    "\n",
    "# Instantiate Logistic Regression Model \n",
    "lr = LogisticRegression(random_state = 0)\n",
    "\n",
    "# fit our model with the outputed tfidf training set\n",
    "lr.fit(tfidf_train, y_train)\n",
    "\n",
    "# predict the class on the tfidf testing set\n",
    "pred_lr = lr.predict(tfidf_test)\n",
    "\n",
    "# print the predictions\n",
    "print(pred_lr) "
   ]
  },
  {
   "cell_type": "code",
   "execution_count": 37,
   "id": "9e559365-84a6-4fbb-bf93-9040d6716ffd",
   "metadata": {},
   "outputs": [
    {
     "name": "stdout",
     "output_type": "stream",
     "text": [
      "Accuracy of Logistic Regression model: 0.9846256684491979\n"
     ]
    }
   ],
   "source": [
    "# check the accuracy score on the testing set\n",
    "import sklearn.metrics\n",
    "accuracy1 = lr.score(tfidf_test, y_test)\n",
    "print(\"Accuracy of Logistic Regression model:\", accuracy1)"
   ]
  },
  {
   "cell_type": "code",
   "execution_count": 38,
   "id": "20211770-6699-4320-b105-87980a3bda46",
   "metadata": {},
   "outputs": [
    {
     "name": "stdout",
     "output_type": "stream",
     "text": [
      "              precision    recall  f1-score   support\n",
      "\n",
      "           0       0.98      0.99      0.99      7091\n",
      "           1       0.98      0.98      0.98      6373\n",
      "\n",
      "    accuracy                           0.98     13464\n",
      "   macro avg       0.98      0.98      0.98     13464\n",
      "weighted avg       0.98      0.98      0.98     13464\n",
      "\n"
     ]
    }
   ],
   "source": [
    "# classification report \n",
    "from sklearn.metrics import classification_report\n",
    "print(classification_report(pred_lr,y_test))"
   ]
  },
  {
   "cell_type": "code",
   "execution_count": 39,
   "id": "84235ce2-aade-483e-89ce-532ae9ac8942",
   "metadata": {},
   "outputs": [
    {
     "data": {
      "text/plain": [
       "array([[6994,  110],\n",
       "       [  97, 6263]], dtype=int64)"
      ]
     },
     "execution_count": 39,
     "metadata": {},
     "output_type": "execute_result"
    }
   ],
   "source": [
    "from sklearn.metrics import confusion_matrix  \n",
    "cm1 = confusion_matrix(y_test,pred_lr)  \n",
    "cm1"
   ]
  },
  {
   "cell_type": "code",
   "execution_count": 40,
   "id": "64dc79f5-9bb3-4a66-b51e-c4ecc1caa2db",
   "metadata": {},
   "outputs": [
    {
     "name": "stdout",
     "output_type": "stream",
     "text": [
      "Accuracy: 0.985\n",
      "Precision: 0.983\n",
      "Recall: 0.985\n",
      "F1 Score: 0.984\n"
     ]
    },
    {
     "data": {
      "image/png": "[encoded data removed]",
      "text/plain": [
       "<Figure size 640x480 with 2 Axes>"
      ]
     },
     "metadata": {},
     "output_type": "display_data"
    }
   ],
   "source": [
    "import seaborn as sns\n",
    "\n",
    "cm = confusion_matrix(y_test, pred_lr)  \n",
    "sns.heatmap(cm, xticklabels=['predicted_fake', 'predicted_true'], \n",
    "                yticklabels=['actual_fake', 'actual_true'],\n",
    "annot=True, fmt='d', annot_kws={'fontsize':20}, cmap=\"YlGnBu\");\n",
    "\n",
    "plt.ylabel('Actual',fontsize=13)\n",
    "plt.xlabel('Prediction',fontsize=13)\n",
    "plt.title('Confusion Matrix',fontsize=17) \n",
    "\n",
    "\n",
    "true_neg, false_pos = cm[0]\n",
    "false_neg, true_pos = cm[1]\n",
    "\n",
    "accuracy = round((true_pos + true_neg) / (true_pos + true_neg + false_pos + false_neg),3)\n",
    "precision = round((true_pos) / (true_pos + false_pos),3)\n",
    "recall = round((true_pos) / (true_pos + false_neg),3)\n",
    "f1 = round(2 * (precision * recall) / (precision + recall),3)\n",
    "\n",
    "print('Accuracy: {}'.format(accuracy))\n",
    "print('Precision: {}'.format(precision))\n",
    "print('Recall: {}'.format(recall))\n",
    "print('F1 Score: {}'.format(f1))"
   ]
  },
  {
   "cell_type": "markdown",
   "id": "296aa438-4596-47b3-afd3-f63e9761e2b9",
   "metadata": {},
   "source": [
    "# Naive Bayes"
   ]
  },
  {
   "cell_type": "code",
   "execution_count": 41,
   "id": "2b34db65-28d4-4192-9f4c-35c886b5bb38",
   "metadata": {},
   "outputs": [
    {
     "name": "stdout",
     "output_type": "stream",
     "text": [
      "[0 1 1 ... 1 0 0]\n"
     ]
    }
   ],
   "source": [
    "# Use a Naive Bayes model\n",
    "from sklearn.naive_bayes import MultinomialNB\n",
    "import numpy as np\n",
    "\n",
    "nb = MultinomialNB(alpha=0.3,fit_prior=False)\n",
    "\n",
    "# Train the model\n",
    "nb.fit(tfidf_train, y_train)\n",
    "\n",
    "# Take the model that was trained on the X_train_cv data and apply it to the X_test_cv\n",
    "pred_nb = nb.predict(tfidf_test)\n",
    "\n",
    "print(pred_nb)"
   ]
  },
  {
   "cell_type": "code",
   "execution_count": 42,
   "id": "9045c239-67ba-4dc9-9489-97c8c9d8a2b5",
   "metadata": {},
   "outputs": [
    {
     "name": "stdout",
     "output_type": "stream",
     "text": [
      "Accuracy of Naive Bayes model: 0.9361259655377302\n"
     ]
    }
   ],
   "source": [
    "# check the accuracy score on the testing set\n",
    "import sklearn.metrics\n",
    "accuracy2 = nb.score(tfidf_test, y_test)\n",
    "print(\"Accuracy of Naive Bayes model:\", accuracy2)"
   ]
  },
  {
   "cell_type": "code",
   "execution_count": 43,
   "id": "7e306ae0-6d23-43cb-8e05-f33495eaba34",
   "metadata": {},
   "outputs": [
    {
     "name": "stdout",
     "output_type": "stream",
     "text": [
      "              precision    recall  f1-score   support\n",
      "\n",
      "           0       0.95      0.93      0.94      7186\n",
      "           1       0.93      0.94      0.93      6278\n",
      "\n",
      "    accuracy                           0.94     13464\n",
      "   macro avg       0.94      0.94      0.94     13464\n",
      "weighted avg       0.94      0.94      0.94     13464\n",
      "\n"
     ]
    }
   ],
   "source": [
    "# classification report \n",
    "from sklearn.metrics import classification_report\n",
    "print(classification_report(pred_nb,y_test))"
   ]
  },
  {
   "cell_type": "code",
   "execution_count": 44,
   "id": "ab363284-281e-4f5b-9e7c-7837766fead7",
   "metadata": {},
   "outputs": [
    {
     "data": {
      "text/plain": [
       "array([[6715,  389],\n",
       "       [ 471, 5889]], dtype=int64)"
      ]
     },
     "execution_count": 44,
     "metadata": {},
     "output_type": "execute_result"
    }
   ],
   "source": [
    "from sklearn.metrics import confusion_matrix  \n",
    "cm2 = confusion_matrix(y_test,pred_nb)  \n",
    "cm2"
   ]
  },
  {
   "cell_type": "code",
   "execution_count": 45,
   "id": "3ef1902c-ea4d-4fa0-b9ba-d711ca95ce6d",
   "metadata": {},
   "outputs": [
    {
     "name": "stdout",
     "output_type": "stream",
     "text": [
      "Accuracy: 0.936\n",
      "Precision: 0.938\n",
      "Recall: 0.926\n",
      "F1 Score: 0.932\n"
     ]
    },
    {
     "data": {
      "image/png": "[encoded data removed]",
      "text/plain": [
       "<Figure size 640x480 with 2 Axes>"
      ]
     },
     "metadata": {},
     "output_type": "display_data"
    }
   ],
   "source": [
    "from sklearn.metrics import confusion_matrix\n",
    "import seaborn as sns\n",
    "\n",
    "cm = confusion_matrix(y_test, pred_nb) \n",
    "sns.heatmap(cm, xticklabels=['predicted_fake', 'predicted_true'], \n",
    "                yticklabels=['actual_fake', 'actual_true'],\n",
    "annot=True, fmt='d', annot_kws={'fontsize':20}, cmap=\"viridis\");\n",
    "\n",
    "plt.ylabel('Actual',fontsize=13)\n",
    "plt.xlabel('Prediction',fontsize=13)\n",
    "plt.title('Confusion Matrix',fontsize=17) \n",
    "\n",
    "\n",
    "true_neg, false_pos = cm[0]\n",
    "false_neg, true_pos = cm[1]\n",
    "\n",
    "accuracy = round((true_pos + true_neg) / (true_pos + true_neg + false_pos + false_neg),3)\n",
    "precision = round((true_pos) / (true_pos + false_pos),3)\n",
    "recall = round((true_pos) / (true_pos + false_neg),3)\n",
    "f1 = round(2 * (precision * recall) / (precision + recall),3)\n",
    "\n",
    "print('Accuracy: {}'.format(accuracy))\n",
    "print('Precision: {}'.format(precision))\n",
    "print('Recall: {}'.format(recall))\n",
    "print('F1 Score: {}'.format(f1))"
   ]
  },
  {
   "cell_type": "markdown",
   "id": "b56567ff-1a55-4215-be83-dfd78c58e458",
   "metadata": {},
   "source": [
    "#  Random Forest Classifier"
   ]
  },
  {
   "cell_type": "code",
   "execution_count": 46,
   "id": "054e4ac8-bf31-43e4-852f-6a93452c3884",
   "metadata": {},
   "outputs": [
    {
     "name": "stdout",
     "output_type": "stream",
     "text": [
      "[0 1 1 ... 1 0 0]\n"
     ]
    }
   ],
   "source": [
    "# import Random Forest Classifier from sklearn \n",
    "from sklearn.ensemble import RandomForestClassifier\n",
    "\n",
    "# instantiate our model \n",
    "rf = RandomForestClassifier(random_state = 0, n_estimators=50) \n",
    "# n_estimators: the number of decision trees in the forest. Increasing this hyperparameter generally improves the performance of the model \n",
    "# but also increases the computational cost of training and predicting\n",
    "\n",
    "# train our model on training data\n",
    "rf.fit(tfidf_train,y_train)\n",
    "\n",
    "# get predictions using random forest classifier\n",
    "pred_rf = rf.predict(tfidf_test)\n",
    "print(pred_rf)"
   ]
  },
  {
   "cell_type": "code",
   "execution_count": 47,
   "id": "ef2cb5fc-0192-4846-9a98-0fa0ea12a2f7",
   "metadata": {},
   "outputs": [
    {
     "name": "stdout",
     "output_type": "stream",
     "text": [
      "Accuracy of Random Forest Classifier model: 0.9856654783125371\n"
     ]
    }
   ],
   "source": [
    "# check the accuracy score on the testing set\n",
    "import sklearn.metrics\n",
    "accuracy3 = rf.score(tfidf_test, y_test)\n",
    "print(\"Accuracy of Random Forest Classifier model:\", accuracy3)"
   ]
  },
  {
   "cell_type": "code",
   "execution_count": 48,
   "id": "1be1832d-a337-47c5-8472-6c9298412251",
   "metadata": {},
   "outputs": [
    {
     "data": {
      "text/plain": [
       "array([[7031,   73],\n",
       "       [ 120, 6240]], dtype=int64)"
      ]
     },
     "execution_count": 48,
     "metadata": {},
     "output_type": "execute_result"
    }
   ],
   "source": [
    "from sklearn.metrics import confusion_matrix  \n",
    "cm3 = confusion_matrix(y_test,pred_rf)  \n",
    "cm3"
   ]
  },
  {
   "cell_type": "code",
   "execution_count": 49,
   "id": "7bc66588-ffce-43f4-bc79-cbabfe19ebf2",
   "metadata": {},
   "outputs": [
    {
     "name": "stdout",
     "output_type": "stream",
     "text": [
      "Accuracy: 0.986\n",
      "Precision: 0.988\n",
      "Recall: 0.981\n",
      "F1 Score: 0.984\n"
     ]
    },
    {
     "data": {
      "image/png": "[encoded data removed]",
      "text/plain": [
       "<Figure size 640x480 with 2 Axes>"
      ]
     },
     "metadata": {},
     "output_type": "display_data"
    }
   ],
   "source": [
    "from sklearn.metrics import confusion_matrix\n",
    "import seaborn as sns\n",
    "\n",
    "cm = confusion_matrix(y_test, pred_rf) \n",
    "sns.heatmap(cm, xticklabels=['predicted_fake', 'predicted_true'], \n",
    "                yticklabels=['actual_fake', 'actual_true'],\n",
    "annot=True, fmt='d', annot_kws={'fontsize':20}, cmap=\"magma\");\n",
    "\n",
    "plt.ylabel('Actual',fontsize=13)\n",
    "plt.xlabel('Prediction',fontsize=13)\n",
    "plt.title('Confusion Matrix',fontsize=17) \n",
    "\n",
    "\n",
    "true_neg, false_pos = cm[0]\n",
    "false_neg, true_pos = cm[1]\n",
    "\n",
    "accuracy = round((true_pos + true_neg) / (true_pos + true_neg + false_pos + false_neg),3)\n",
    "precision = round((true_pos) / (true_pos + false_pos),3)\n",
    "recall = round((true_pos) / (true_pos + false_neg),3)\n",
    "f1 = round(2 * (precision * recall) / (precision + recall),3)\n",
    "\n",
    "print('Accuracy: {}'.format(accuracy))\n",
    "print('Precision: {}'.format(precision))\n",
    "print('Recall: {}'.format(recall))\n",
    "print('F1 Score: {}'.format(f1))"
   ]
  },
  {
   "cell_type": "markdown",
   "id": "c5c3c348-ef29-4504-965a-03dbefab2153",
   "metadata": {},
   "source": [
    "# Compare Models"
   ]
  },
  {
   "cell_type": "code",
   "execution_count": 50,
   "id": "62a9f91d-71f3-46cc-80e0-b110e0465793",
   "metadata": {},
   "outputs": [],
   "source": [
    "#creating accuracy dataframe\n",
    "accuaracy_list=pd.DataFrame({'Models':['Logistic Regression','Naive Bayes','Random Forest'],\n",
    "                            'Accuracy':[accuracy1*100,accuracy2*100,\n",
    "                                        accuracy3*100]})"
   ]
  },
  {
   "cell_type": "code",
   "execution_count": 51,
   "id": "10071a74-b84c-4391-9c45-39a4e48944f2",
   "metadata": {},
   "outputs": [
    {
     "name": "stdout",
     "output_type": "stream",
     "text": [
      "                Models   Accuracy\n",
      "0  Logistic Regression  98.462567\n",
      "1          Naive Bayes  93.612597\n",
      "2        Random Forest  98.566548\n"
     ]
    }
   ],
   "source": [
    "print(accuaracy_list)\n"
   ]
  },
  {
   "cell_type": "code",
   "execution_count": 52,
   "id": "d0ccafa8-2387-4f10-bf4b-1bcf6ff5631c",
   "metadata": {},
   "outputs": [
    {
     "data": {
      "image/png": "[encoded data removed]",
      "text/plain": [
       "<Figure size 640x480 with 1 Axes>"
      ]
     },
     "metadata": {},
     "output_type": "display_data"
    }
   ],
   "source": [
    "# Example list of colors\n",
    "colors = ['blue', 'green', 'red', 'purple', 'orange']\n",
    "\n",
    "# Plot with different colors for each bar\n",
    "plt.barh(accuaracy_list['Models'], accuaracy_list['Accuracy'], color=colors)\n",
    "\n",
    "plt.xlabel('Accuracy')\n",
    "plt.ylabel('Models')\n",
    "plt.title('Model Accuracy Comparison')\n",
    "plt.show()\n"
   ]
  },
  {
   "cell_type": "code",
   "execution_count": 111,
   "id": "4e03c703-9b27-4d4c-b2b6-d0803b8dcafd",
   "metadata": {},
   "outputs": [
    {
     "data": {
      "text/plain": [
       "['tfidfVectorizer.joblib']"
      ]
     },
     "execution_count": 111,
     "metadata": {},
     "output_type": "execute_result"
    }
   ],
   "source": [
    "import joblib\n",
    "joblib.dump(vc, 'tfidfVectorizer.joblib')"
   ]
  },
  {
   "cell_type": "code",
   "execution_count": 112,
   "id": "a29984fb-52d9-4ae2-8e02-4f0f7c1e5d46",
   "metadata": {},
   "outputs": [
    {
     "data": {
      "text/plain": [
       "['logistic_regression_model.joblib']"
      ]
     },
     "execution_count": 112,
     "metadata": {},
     "output_type": "execute_result"
    }
   ],
   "source": [
    "joblib.dump(lr, 'logistic_regression_model.joblib')"
   ]
  },
  {
   "cell_type": "markdown",
   "id": "5ab1b1eb-ebb4-4841-969a-202f33212f81",
   "metadata": {},
   "source": [
    "# Manual Testing"
   ]
  },
  {
   "cell_type": "code",
   "execution_count": 2,
   "id": "b2ec7d80-52c1-42ba-a4c4-e2f765c7c73a",
   "metadata": {},
   "outputs": [],
   "source": [
    "# function to to check the predicted class and return a string whether its a fake or true news\n",
    "def output_label(n):\n",
    "    if n==0:\n",
    "        return \"Fake News\"\n",
    "    elif n==1:\n",
    "        return \"Real News\"\n",
    "\n",
    "# functions that gets a input of news(text) and does the same steps as above\n",
    "# we get the news and put into a dataframe \n",
    "# we get the news text and clean it \n",
    "# we get the clean text and tfidf the text\n",
    "# predict the news using the models we used\n",
    "def manual_test(news):\n",
    "    testing_news = {\"text\":[news]}\n",
    "    new_def_test = pd.DataFrame(testing_news)\n",
    "    new_def_test['text'] = new_def_test['text'].apply(processWord)\n",
    "    new_x_test = new_def_test['text']\n",
    "    new_tfidf_test = vc.transform(new_x_test)\n",
    "    pred_lr = lr.predict(new_tfidf_test)\n",
    "    pred_nb = nb.predict(new_tfidf_test)\n",
    "    pred_rf = rf.predict(new_tfidf_test)\n",
    "    \n",
    "    return print(\"\\n\\n Logistic Regression Prediction: {} \\n Naive Bayes Prediction: {} \\n Random Forest Prediction: {}\".format(\n",
    "        output_label(pred_lr[0]), \n",
    "        output_label(pred_nb[0]), \n",
    "        output_label(pred_rf[0])))        "
   ]
  },
  {
   "cell_type": "code",
   "execution_count": 3,
   "id": "b689a092-e54c-4f04-8cfa-d76839bb149d",
   "metadata": {},
   "outputs": [
    {
     "ename": "NameError",
     "evalue": "name 'fakeData_manual_testing' is not defined",
     "output_type": "error",
     "traceback": [
      "\u001b[1;31m---------------------------------------------------------------------------\u001b[0m",
      "\u001b[1;31mNameError\u001b[0m                                 Traceback (most recent call last)",
      "Cell \u001b[1;32mIn[3], line 2\u001b[0m\n\u001b[0;32m      1\u001b[0m \u001b[38;5;66;03m# observe an example of fake news that we reserved in the beginning\u001b[39;00m\n\u001b[1;32m----> 2\u001b[0m fakeData_manual_testing[\u001b[38;5;124m'\u001b[39m\u001b[38;5;124mtext\u001b[39m\u001b[38;5;124m'\u001b[39m]\u001b[38;5;241m.\u001b[39mvalues[\u001b[38;5;241m2\u001b[39m]\n",
      "\u001b[1;31mNameError\u001b[0m: name 'fakeData_manual_testing' is not defined"
     ]
    }
   ],
   "source": [
    "# observe an example of fake news that we reserved in the beginning\n",
    "fakeData_manual_testing['text'].values[2]"
   ]
  },
  {
   "cell_type": "code",
   "execution_count": 4,
   "id": "2d5f6819-71b6-46d1-b987-1ea59a8a6312",
   "metadata": {},
   "outputs": [
    {
     "ename": "NameError",
     "evalue": "name 'trueData_manual_testing' is not defined",
     "output_type": "error",
     "traceback": [
      "\u001b[1;31m---------------------------------------------------------------------------\u001b[0m",
      "\u001b[1;31mNameError\u001b[0m                                 Traceback (most recent call last)",
      "Cell \u001b[1;32mIn[4], line 2\u001b[0m\n\u001b[0;32m      1\u001b[0m \u001b[38;5;66;03m# observe an example of true news that we reserved in the beginning\u001b[39;00m\n\u001b[1;32m----> 2\u001b[0m trueData_manual_testing[\u001b[38;5;124m'\u001b[39m\u001b[38;5;124mtext\u001b[39m\u001b[38;5;124m'\u001b[39m]\u001b[38;5;241m.\u001b[39mvalues[\u001b[38;5;241m3\u001b[39m]\n",
      "\u001b[1;31mNameError\u001b[0m: name 'trueData_manual_testing' is not defined"
     ]
    }
   ],
   "source": [
    "# observe an example of true news that we reserved in the beginning\n",
    "trueData_manual_testing['text'].values[3]"
   ]
  },
  {
   "cell_type": "code",
   "execution_count": 5,
   "id": "b69fbe29-26fb-49fd-b255-d36c3f6890f4",
   "metadata": {},
   "outputs": [
    {
     "ename": "KeyboardInterrupt",
     "evalue": "Interrupted by user",
     "output_type": "error",
     "traceback": [
      "\u001b[1;31m---------------------------------------------------------------------------\u001b[0m",
      "\u001b[1;31mKeyboardInterrupt\u001b[0m                         Traceback (most recent call last)",
      "Cell \u001b[1;32mIn[5], line 2\u001b[0m\n\u001b[0;32m      1\u001b[0m \u001b[38;5;66;03m# make the user put an input of news \u001b[39;00m\n\u001b[1;32m----> 2\u001b[0m news \u001b[38;5;241m=\u001b[39m \u001b[38;5;28mstr\u001b[39m(\u001b[38;5;28minput\u001b[39m())\n\u001b[0;32m      3\u001b[0m \u001b[38;5;66;03m# gets the users input and checks if the news is fake or real\u001b[39;00m\n\u001b[0;32m      4\u001b[0m manual_test(news)\n",
      "File \u001b[1;32mD:\\anaconda3\\Lib\\site-packages\\ipykernel\\kernelbase.py:1262\u001b[0m, in \u001b[0;36mKernel.raw_input\u001b[1;34m(self, prompt)\u001b[0m\n\u001b[0;32m   1260\u001b[0m     msg \u001b[38;5;241m=\u001b[39m \u001b[38;5;124m\"\u001b[39m\u001b[38;5;124mraw_input was called, but this frontend does not support input requests.\u001b[39m\u001b[38;5;124m\"\u001b[39m\n\u001b[0;32m   1261\u001b[0m     \u001b[38;5;28;01mraise\u001b[39;00m StdinNotImplementedError(msg)\n\u001b[1;32m-> 1262\u001b[0m \u001b[38;5;28;01mreturn\u001b[39;00m \u001b[38;5;28mself\u001b[39m\u001b[38;5;241m.\u001b[39m_input_request(\n\u001b[0;32m   1263\u001b[0m     \u001b[38;5;28mstr\u001b[39m(prompt),\n\u001b[0;32m   1264\u001b[0m     \u001b[38;5;28mself\u001b[39m\u001b[38;5;241m.\u001b[39m_parent_ident[\u001b[38;5;124m\"\u001b[39m\u001b[38;5;124mshell\u001b[39m\u001b[38;5;124m\"\u001b[39m],\n\u001b[0;32m   1265\u001b[0m     \u001b[38;5;28mself\u001b[39m\u001b[38;5;241m.\u001b[39mget_parent(\u001b[38;5;124m\"\u001b[39m\u001b[38;5;124mshell\u001b[39m\u001b[38;5;124m\"\u001b[39m),\n\u001b[0;32m   1266\u001b[0m     password\u001b[38;5;241m=\u001b[39m\u001b[38;5;28;01mFalse\u001b[39;00m,\n\u001b[0;32m   1267\u001b[0m )\n",
      "File \u001b[1;32mD:\\anaconda3\\Lib\\site-packages\\ipykernel\\kernelbase.py:1305\u001b[0m, in \u001b[0;36mKernel._input_request\u001b[1;34m(self, prompt, ident, parent, password)\u001b[0m\n\u001b[0;32m   1302\u001b[0m \u001b[38;5;28;01mexcept\u001b[39;00m \u001b[38;5;167;01mKeyboardInterrupt\u001b[39;00m:\n\u001b[0;32m   1303\u001b[0m     \u001b[38;5;66;03m# re-raise KeyboardInterrupt, to truncate traceback\u001b[39;00m\n\u001b[0;32m   1304\u001b[0m     msg \u001b[38;5;241m=\u001b[39m \u001b[38;5;124m\"\u001b[39m\u001b[38;5;124mInterrupted by user\u001b[39m\u001b[38;5;124m\"\u001b[39m\n\u001b[1;32m-> 1305\u001b[0m     \u001b[38;5;28;01mraise\u001b[39;00m \u001b[38;5;167;01mKeyboardInterrupt\u001b[39;00m(msg) \u001b[38;5;28;01mfrom\u001b[39;00m \u001b[38;5;28;01mNone\u001b[39;00m\n\u001b[0;32m   1306\u001b[0m \u001b[38;5;28;01mexcept\u001b[39;00m \u001b[38;5;167;01mException\u001b[39;00m:\n\u001b[0;32m   1307\u001b[0m     \u001b[38;5;28mself\u001b[39m\u001b[38;5;241m.\u001b[39mlog\u001b[38;5;241m.\u001b[39mwarning(\u001b[38;5;124m\"\u001b[39m\u001b[38;5;124mInvalid Message:\u001b[39m\u001b[38;5;124m\"\u001b[39m, exc_info\u001b[38;5;241m=\u001b[39m\u001b[38;5;28;01mTrue\u001b[39;00m)\n",
      "\u001b[1;31mKeyboardInterrupt\u001b[0m: Interrupted by user"
     ]
    }
   ],
   "source": [
    "# make the user put an input of news \n",
    "news = str(input())\n",
    "# gets the users input and checks if the news is fake or real\n",
    "manual_test(news)"
   ]
  },
  {
   "cell_type": "code",
   "execution_count": null,
   "id": "fe75b3d3-be93-4076-8e05-5bcaa79601d3",
   "metadata": {},
   "outputs": [],
   "source": []
  }
 ],
 "metadata": {
  "kernelspec": {
   "display_name": "Python 3 (ipykernel)",
   "language": "python",
   "name": "python3"
  },
  "language_info": {
   "codemirror_mode": {
    "name": "ipython",
    "version": 3
   },
   "file_extension": ".py",
   "mimetype": "text/x-python",
   "name": "python",
   "nbconvert_exporter": "python",
   "pygments_lexer": "ipython3",
   "version": "3.12.4"
  }
 },
 "nbformat": 4,
 "nbformat_minor": 5
}
